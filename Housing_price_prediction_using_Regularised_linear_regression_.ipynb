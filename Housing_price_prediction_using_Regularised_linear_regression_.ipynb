{
  "nbformat": 4,
  "nbformat_minor": 0,
  "metadata": {
    "colab": {
      "name": "Housing price prediction using Regularised linear regression .ipynb",
      "provenance": []
    },
    "kernelspec": {
      "name": "python3",
      "display_name": "Python 3"
    }
  },
  "cells": [
    {
      "cell_type": "markdown",
      "metadata": {
        "id": "3nppKaoi4Lr3",
        "colab_type": "text"
      },
      "source": [
        "# **Housing price prediction using linear regression** \n",
        "(*Regularised Gradient Descent and Regularised Normal equation*)\n",
        "\n",
        "---\n",
        "\n",
        "\n",
        "\n"
      ]
    },
    {
      "cell_type": "code",
      "metadata": {
        "id": "zDCzcBQ8Q1u4",
        "colab_type": "code",
        "colab": {}
      },
      "source": [
        "import numpy as np\n",
        "import pandas as pd\n",
        "import matplotlib.pyplot as plt"
      ],
      "execution_count": 0,
      "outputs": []
    },
    {
      "cell_type": "markdown",
      "metadata": {
        "id": "dHiaTyNZ5CMc",
        "colab_type": "text"
      },
      "source": [
        "\n",
        "1.   *Delete unnecessary column*\n",
        "2.   *Normalised the data with mean*\n",
        " "
      ]
    },
    {
      "cell_type": "code",
      "metadata": {
        "colab_type": "code",
        "outputId": "1d7588ca-1e3e-4cc9-9861-f1aa2fee86b6",
        "id": "Z_1MXqR2-08l",
        "colab": {
          "base_uri": "https://localhost:8080/",
          "height": 195
        }
      },
      "source": [
        "data = pd.read_csv('Housing Price data set.csv')\n",
        "data=data.drop(['Unnamed: 0','driveway','recroom','fullbase','airco','prefarea', 'gashw'],axis=1)\n",
        "mean = data.mean()[0]\n",
        "stddev = data.std()[0]\n",
        "data = (data - data.mean())/data.std()\n",
        "\n",
        "data.head()"
      ],
      "execution_count": 0,
      "outputs": [
        {
          "output_type": "execute_result",
          "data": {
            "text/html": [
              "<div>\n",
              "<style scoped>\n",
              "    .dataframe tbody tr th:only-of-type {\n",
              "        vertical-align: middle;\n",
              "    }\n",
              "\n",
              "    .dataframe tbody tr th {\n",
              "        vertical-align: top;\n",
              "    }\n",
              "\n",
              "    .dataframe thead th {\n",
              "        text-align: right;\n",
              "    }\n",
              "</style>\n",
              "<table border=\"1\" class=\"dataframe\">\n",
              "  <thead>\n",
              "    <tr style=\"text-align: right;\">\n",
              "      <th></th>\n",
              "      <th>price</th>\n",
              "      <th>lotsize</th>\n",
              "      <th>bedrooms</th>\n",
              "      <th>bathrms</th>\n",
              "      <th>stories</th>\n",
              "      <th>garagepl</th>\n",
              "    </tr>\n",
              "  </thead>\n",
              "  <tbody>\n",
              "    <tr>\n",
              "      <th>0</th>\n",
              "      <td>-0.978239</td>\n",
              "      <td>0.322732</td>\n",
              "      <td>0.047192</td>\n",
              "      <td>-0.568973</td>\n",
              "      <td>0.221501</td>\n",
              "      <td>0.357239</td>\n",
              "    </tr>\n",
              "    <tr>\n",
              "      <th>1</th>\n",
              "      <td>-1.109312</td>\n",
              "      <td>-0.530526</td>\n",
              "      <td>-1.308947</td>\n",
              "      <td>-0.568973</td>\n",
              "      <td>-0.930304</td>\n",
              "      <td>-0.803788</td>\n",
              "    </tr>\n",
              "    <tr>\n",
              "      <th>2</th>\n",
              "      <td>-0.697368</td>\n",
              "      <td>-0.964074</td>\n",
              "      <td>0.047192</td>\n",
              "      <td>-0.568973</td>\n",
              "      <td>-0.930304</td>\n",
              "      <td>-0.803788</td>\n",
              "    </tr>\n",
              "    <tr>\n",
              "      <th>3</th>\n",
              "      <td>-0.285425</td>\n",
              "      <td>0.691709</td>\n",
              "      <td>0.047192</td>\n",
              "      <td>-0.568973</td>\n",
              "      <td>0.221501</td>\n",
              "      <td>-0.803788</td>\n",
              "    </tr>\n",
              "    <tr>\n",
              "      <th>4</th>\n",
              "      <td>-0.266700</td>\n",
              "      <td>0.557955</td>\n",
              "      <td>-1.308947</td>\n",
              "      <td>-0.568973</td>\n",
              "      <td>-0.930304</td>\n",
              "      <td>-0.803788</td>\n",
              "    </tr>\n",
              "  </tbody>\n",
              "</table>\n",
              "</div>"
            ],
            "text/plain": [
              "      price   lotsize  bedrooms   bathrms   stories  garagepl\n",
              "0 -0.978239  0.322732  0.047192 -0.568973  0.221501  0.357239\n",
              "1 -1.109312 -0.530526 -1.308947 -0.568973 -0.930304 -0.803788\n",
              "2 -0.697368 -0.964074  0.047192 -0.568973 -0.930304 -0.803788\n",
              "3 -0.285425  0.691709  0.047192 -0.568973  0.221501 -0.803788\n",
              "4 -0.266700  0.557955 -1.308947 -0.568973 -0.930304 -0.803788"
            ]
          },
          "metadata": {
            "tags": []
          },
          "execution_count": 168
        }
      ]
    },
    {
      "cell_type": "markdown",
      "metadata": {
        "colab_type": "text",
        "id": "mPI-h9ER6Ah4"
      },
      "source": [
        "\n",
        "3.   *Separate out the Feature and Target matrices\n",
        "and devide test and train data with 0.9 split ratio*\n",
        "\n",
        "\n",
        "\n",
        "\n",
        "\n"
      ]
    },
    {
      "cell_type": "code",
      "metadata": {
        "id": "hS6ya-6MWxha",
        "colab_type": "code",
        "colab": {}
      },
      "source": [
        " \n",
        "data=np.asarray(data)\n",
        "Y=data[:,0:1]\n",
        "X=data[:,1:]\n",
        "one = np.ones((len(X),1))\n",
        "X = np.concatenate((one,X),axis=1)\n",
        "split_ratio = 0.9\n",
        "split = int(split_ratio * X.shape[0])\n",
        "X_test = X[split+1:,:]\n",
        "X_train = X[:split+1, :]\n",
        "Y_test = Y[split+1:,:]\n",
        "Y_train = Y[:split+1, :]"
      ],
      "execution_count": 0,
      "outputs": []
    },
    {
      "cell_type": "markdown",
      "metadata": {
        "id": "16F95s136lq3",
        "colab_type": "text"
      },
      "source": [
        "4. *Compute cost function*\n",
        "5. *denormalise price funcion*\n",
        "6. *compute error function*\n",
        "7. *plot graph function* "
      ]
    },
    {
      "cell_type": "code",
      "metadata": {
        "id": "tc5dfKZXWxmK",
        "colab_type": "code",
        "colab": {}
      },
      "source": [
        "# helper Functions\n",
        "def computeCost(X,y,theta,lam):\n",
        "    tobesummed = np.power(((X.dot(theta.T))-y),2)+lam*np.sum(np.power(theta,2))\n",
        "    return np.sum(tobesummed)/(2 * len(X))\n",
        "\n",
        "def denormalise_price(price):\n",
        "    global mean\n",
        "    global stddev\n",
        "    ret = price * stddev + mean\n",
        "    return ret\n",
        "\n",
        "def computeError(predicted, actual):\n",
        "    error = 0\n",
        "    for i in range(len(predicted)):\n",
        "        error += abs(actual[i] - predicted[i]) / actual[i]\n",
        "    error /= len(actual)\n",
        "    return error[0]\n",
        "\n",
        "def plotGraph(x,y,labelX='X',labelY='Y',title='X vs Y'):\n",
        "  fig, ax = plt.subplots()  \n",
        "  ax.plot(x, y, 'r')\n",
        "  ax.set_xlabel(labelX) \n",
        "  ax.set_ylabel(labelY)  \n",
        "  ax.set_title(title)"
      ],
      "execution_count": 0,
      "outputs": []
    },
    {
      "cell_type": "markdown",
      "metadata": {
        "id": "oDkRDFBq7AD4",
        "colab_type": "text"
      },
      "source": [
        "7. *Gradient descent with regularisation to fint minimum theta*"
      ]
    },
    {
      "cell_type": "code",
      "metadata": {
        "id": "vA1kkGh7Wxss",
        "colab_type": "code",
        "colab": {}
      },
      "source": [
        "# Gradient Descent\n",
        "def gradientDescent(X,y,theta,iters,alpha, lam):\n",
        "    lam_matrix = lam * np.ones(theta.shape)\n",
        "    lam_matrix[0][0] = 0\n",
        "    for i in range(iters):\n",
        "        theta = theta*(1- lam_matrix / len(X)) - (alpha/len(X)) * np.sum(X * (X @ theta.T - y), axis=0)\n",
        "\n",
        "    return theta"
      ],
      "execution_count": 0,
      "outputs": []
    },
    {
      "cell_type": "markdown",
      "metadata": {
        "id": "p2VgY1kK7T8b",
        "colab_type": "text"
      },
      "source": [
        "7. *Normal eqution function with regularisation to find minimum theta*"
      ]
    },
    {
      "cell_type": "code",
      "metadata": {
        "id": "FdtX5XeoWxyE",
        "colab_type": "code",
        "colab": {}
      },
      "source": [
        "#Normal equation\n",
        "def normalEquation(X,Y,lam):\n",
        "    lam_matrix = lam * np.identity(X.shape[1])\n",
        "    lam_matrix[0][0] = 0\n",
        "    theta = np.linalg.inv(X.T.dot(X) + lam_matrix).dot(X.T).dot(Y)\n",
        "    return theta\n",
        "    "
      ],
      "execution_count": 0,
      "outputs": []
    },
    {
      "cell_type": "markdown",
      "metadata": {
        "id": "lB5CnXQJ7h-k",
        "colab_type": "text"
      },
      "source": [
        "8. *Train the model with train data and predict the test data using gradient descent*\n",
        "9. *compute the minimum error and lambda* \n",
        "10. *plot error vs lambda graph*"
      ]
    },
    {
      "cell_type": "code",
      "metadata": {
        "id": "IPet8YbFWx3G",
        "colab_type": "code",
        "outputId": "6be04329-cae3-45b8-d9de-ab6f60613ef9",
        "colab": {
          "base_uri": "https://localhost:8080/",
          "height": 329
        }
      },
      "source": [
        "theta = np.zeros([1,X.shape[1]])\n",
        "alpha = .1 #learning rate\n",
        "iters = 500 #epoch\n",
        "error_matrix = []\n",
        "lam_range = 600 #maximam lamda\n",
        "for lam in range(lam_range):\n",
        "    g = gradientDescent(X_train,Y_train,theta,iters,alpha, lam)\n",
        "    Cost = computeCost(X_train,Y_train,g,lam)\n",
        "\n",
        "    Y_pred = X_test.dot(g.T)\n",
        "    error = computeError(denormalise_price(Y_pred),denormalise_price(Y_test))\n",
        "    error_matrix.append(error*100)\n",
        "optimal_lambda = 0\n",
        "min_error = 9999\n",
        "for i in range(len(error_matrix)):\n",
        "    if error_matrix[i] < min_error:\n",
        "        optimal_lambda = i\n",
        "        min_error = error_matrix[i]\n",
        "\n",
        "print(\"min Error  : \", (min_error),'%')\n",
        "print(\"Optimal Lambda : \", optimal_lambda)\n",
        "plotGraph(np.arange(lam_range),error_matrix,'lambda','error','lambda vs error')"
      ],
      "execution_count": 173,
      "outputs": [
        {
          "output_type": "stream",
          "text": [
            "min Error  :  13.960611355440056 %\n",
            "Optimal Lambda :  24\n"
          ],
          "name": "stdout"
        },
        {
          "output_type": "display_data",
          "data": {
            "image/png": "[encoded data removed]",
            "text/plain": [
              "<Figure size 432x288 with 1 Axes>"
            ]
          },
          "metadata": {
            "tags": []
          }
        }
      ]
    },
    {
      "cell_type": "code",
      "metadata": {
        "id": "u9VrkVqe1PXM",
        "colab_type": "code",
        "colab": {
          "base_uri": "https://localhost:8080/",
          "height": 34
        },
        "outputId": "767df818-abfa-4227-ea63-7b72de7e39ef"
      },
      "source": [
        "print('pred price =',denormalise_price(Y_pred[2][0]),'actual price =',denormalise_price(Y_test[2][0]))"
      ],
      "execution_count": 174,
      "outputs": [
        {
          "output_type": "stream",
          "text": [
            "pred price = 64257.57664950318 actual price = 58500.0\n"
          ],
          "name": "stdout"
        }
      ]
    },
    {
      "cell_type": "markdown",
      "metadata": {
        "id": "M0LcIvFo8QLt",
        "colab_type": "text"
      },
      "source": [
        "11. *Train the model with train data and predict the test data using Normal Equation*\n",
        "12. *compute the minimum error and lambda* \n",
        "13. *plot error vs lambda graph*"
      ]
    },
    {
      "cell_type": "code",
      "metadata": {
        "id": "e4DsK_VOWx5x",
        "colab_type": "code",
        "colab": {
          "base_uri": "https://localhost:8080/",
          "height": 329
        },
        "outputId": "8755fe2d-8471-431d-94c4-f8a9d73d248f"
      },
      "source": [
        "error_mat = []\n",
        "lam_range = 600\n",
        "\n",
        "for lam in range(lam_range):\n",
        "    theta = normalEquation(X,Y,lam)\n",
        "    Cost = computeCost(X_train,Y_train,theta.T,lam)\n",
        "    Y_pred = X_test.dot(theta)\n",
        "    error = computeError(denormalise_price(Y_pred),denormalise_price(Y_test))\n",
        "    error_mat.append(error*100)\n",
        "\n",
        "optimal_lambda = 0\n",
        "min_error = 9999\n",
        "for i in range(len(error_mat)):\n",
        "    if error_mat[i] < min_error:\n",
        "        optimal_lambda = i\n",
        "        min_error = error_mat[i]\n",
        "print(\"min Error : \", min_error)\n",
        "print(\"Optimal Lambda : \", optimal_lambda)\n",
        "plotGraph(np.arange(lam_range),error_mat,'lambda','error','lambda vs error')"
      ],
      "execution_count": 175,
      "outputs": [
        {
          "output_type": "stream",
          "text": [
            "min Error :  13.432288061521582\n",
            "Optimal Lambda :  311\n"
          ],
          "name": "stdout"
        },
        {
          "output_type": "display_data",
          "data": {
            "image/png": "[encoded data removed]",
            "text/plain": [
              "<Figure size 432x288 with 1 Axes>"
            ]
          },
          "metadata": {
            "tags": []
          }
        }
      ]
    },
    {
      "cell_type": "code",
      "metadata": {
        "id": "Jvnh2FTgdjBR",
        "colab_type": "code",
        "colab": {
          "base_uri": "https://localhost:8080/",
          "height": 34
        },
        "outputId": "56d36f4e-dead-4f71-ee2c-e62ef1741b2d"
      },
      "source": [
        "print('pred price =',denormalise_price(Y_pred[2][0]),'actual price =',denormalise_price(Y_test[2])[0])"
      ],
      "execution_count": 176,
      "outputs": [
        {
          "output_type": "stream",
          "text": [
            "pred price = 57100.426317244695 actual price = 58500.0\n"
          ],
          "name": "stdout"
        }
      ]
    }
  ]
}